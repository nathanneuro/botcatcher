{
 "cells": [
  {
   "cell_type": "code",
   "execution_count": 141,
   "metadata": {
    "collapsed": true
   },
   "outputs": [],
   "source": [
    "import pandas as pd\n",
    "import json\n",
    "from os import walk\n",
    "import os\n",
    "%matplotlib inline"
   ]
  },
  {
   "cell_type": "code",
   "execution_count": 142,
   "metadata": {
    "collapsed": true
   },
   "outputs": [],
   "source": [
    "datapath = '/Users/nathanhelm-burger/Documents/Dropbox/Stats_Programming/botcatcher_data/datanew/'\n",
    "datapath2 = '/Users/nathanhelm-burger/Documents/Dropbox/Stats_Programming/botcatcher_data/data/'"
   ]
  },
  {
   "cell_type": "code",
   "execution_count": 143,
   "metadata": {
    "collapsed": false
   },
   "outputs": [],
   "source": [
    "allfiles = []\n",
    "for (dirpath, dirnames, filenames) in walk(datapath):\n",
    "  allfiles = allfiles+filenames\n",
    "  break\n",
    "\n"
   ]
  },
  {
   "cell_type": "code",
   "execution_count": 144,
   "metadata": {
    "collapsed": false
   },
   "outputs": [
    {
     "name": "stdout",
     "output_type": "stream",
     "text": [
      "number of files 108\n"
     ]
    }
   ],
   "source": [
    "if '.DS_Store' in allfiles:\n",
    "  allfiles.pop(allfiles.index('.DS_Store'))\n",
    "  \n",
    "print('number of files', len(allfiles))"
   ]
  },
  {
   "cell_type": "code",
   "execution_count": 145,
   "metadata": {
    "collapsed": false
   },
   "outputs": [],
   "source": [
    "df = pd.DataFrame()\n",
    "for filename in allfiles:\n",
    "  temp_df = pd.read_json(datapath + filename)\n",
    "  df = df.append(temp_df)"
   ]
  },
  {
   "cell_type": "code",
   "execution_count": 146,
   "metadata": {
    "collapsed": false,
    "scrolled": true
   },
   "outputs": [
    {
     "name": "stdout",
     "output_type": "stream",
     "text": [
      "  permalink                                          snapshots  \\\n",
      "0     JE4yg  [{'dnv': '3', 'views': 0, 'time': '1475774950....   \n",
      "1     boEgG  [{'dnv': '4', 'views': 0, 'time': '1475774950....   \n",
      "2     GWHg5  [{'dnv': '3', 'views': 0, 'time': '1475774950....   \n",
      "3     XW1X1  [{'dnv': '1', 'views': 0, 'time': '1475774950....   \n",
      "4     j5A4q  [{'dnv': '0', 'views': 0, 'time': '1475774950....   \n",
      "\n",
      "                      title   type  \n",
      "0         Star Lord beckons  album  \n",
      "1              No one knows  album  \n",
      "2  birthday lol skin agario  album  \n",
      "3                   getrekt  album  \n",
      "4               High Score!  album  \n"
     ]
    }
   ],
   "source": [
    "print(df.head())\n"
   ]
  },
  {
   "cell_type": "code",
   "execution_count": 147,
   "metadata": {
    "collapsed": false
   },
   "outputs": [
    {
     "name": "stdout",
     "output_type": "stream",
     "text": [
      "Index(['permalink', 'snapshots', 'title', 'type'], dtype='object')\n"
     ]
    }
   ],
   "source": [
    "print(df.columns)"
   ]
  },
  {
   "cell_type": "code",
   "execution_count": 93,
   "metadata": {
    "collapsed": false
   },
   "outputs": [],
   "source": [
    "grouped = df.groupby('permalink')"
   ]
  },
  {
   "cell_type": "code",
   "execution_count": 94,
   "metadata": {
    "collapsed": false
   },
   "outputs": [
    {
     "name": "stdout",
     "output_type": "stream",
     "text": [
      "915 27323\n"
     ]
    }
   ],
   "source": [
    "print(len(grouped), len(df))\n"
   ]
  },
  {
   "cell_type": "code",
   "execution_count": 113,
   "metadata": {
    "collapsed": true
   },
   "outputs": [],
   "source": [
    "subset = grouped.filter(lambda x: len(x) > 20)"
   ]
  },
  {
   "cell_type": "code",
   "execution_count": 114,
   "metadata": {
    "collapsed": false
   },
   "outputs": [],
   "source": [
    "grouped_subset = subset.groupby('permalink')"
   ]
  },
  {
   "cell_type": "code",
   "execution_count": 101,
   "metadata": {
    "collapsed": false
   },
   "outputs": [
    {
     "name": "stdout",
     "output_type": "stream",
     "text": [
      "    permalink                                          snapshots  \\\n",
      "0       XVO7F  [{'dnv': '424', 'time': '1474408710.505945', '...   \n",
      "1       KSIdk  [{'dnv': '202', 'time': '1474408710.505945', '...   \n",
      "2     5Ji5XMH  [{'dnv': '316', 'time': '1474408710.505945', '...   \n",
      "3       6Iqrg  [{'dnv': '125', 'time': '1474408710.505945', '...   \n",
      "4       3c1Mf  [{'dnv': '99', 'time': '1474408710.505945', 'u...   \n",
      "5     q39CCCL  [{'dnv': '127', 'time': '1474408710.505945', '...   \n",
      "6     Mzu9Njz  [{'dnv': '61', 'time': '1474408710.505945', 'u...   \n",
      "7       0Bz5H  [{'dnv': '101', 'time': '1474408710.505945', '...   \n",
      "8       Iammy  [{'dnv': '161', 'time': '1474408710.505945', '...   \n",
      "9     UY7mHHT  [{'dnv': '91', 'time': '1474408710.505945', 'u...   \n",
      "10    AxRGZtA  [{'dnv': '495', 'time': '1474408710.505945', '...   \n",
      "11    hkaDlTY  [{'dnv': '47', 'time': '1474408710.505945', 'u...   \n",
      "12      RfnJH  [{'dnv': '226', 'time': '1474408710.505945', '...   \n",
      "13    6qRM28k  [{'dnv': '81', 'time': '1474408710.505945', 'u...   \n",
      "14      mVl1V  [{'dnv': '52', 'time': '1474408710.505945', 'u...   \n",
      "15      BX9sT  [{'dnv': '312', 'time': '1474408710.505945', '...   \n",
      "16      4Ml3j  [{'dnv': '91', 'time': '1474408710.505945', 'u...   \n",
      "17      MRcU9  [{'dnv': '128', 'time': '1474408710.505945', '...   \n",
      "18      78ut3  [{'dnv': '123', 'time': '1474408710.505945', '...   \n",
      "19      fdeIY  [{'dnv': '44', 'time': '1474408710.505945', 'u...   \n",
      "20      Gv7he  [{'dnv': '1063', 'time': '1474408710.505945', ...   \n",
      "21      MO9Oo  [{'dnv': '364', 'time': '1474408710.505945', '...   \n",
      "22    EfFje4G  [{'dnv': '172', 'time': '1474408710.505945', '...   \n",
      "23      EgyBk  [{'dnv': '93', 'time': '1474408710.505945', 'u...   \n",
      "24      87yO8  [{'dnv': '53', 'time': '1474408710.505945', 'u...   \n",
      "25      GWfXB  [{'dnv': '37', 'time': '1474408710.505945', 'u...   \n",
      "26      iQUxJ  [{'dnv': '44', 'time': '1474408710.505945', 'u...   \n",
      "27      r507d  [{'dnv': '64', 'time': '1474408710.505945', 'u...   \n",
      "28      bfZbL  [{'dnv': '96', 'time': '1474408710.505945', 'u...   \n",
      "29      Rx8mV  [{'dnv': '65', 'time': '1474408710.505945', 'u...   \n",
      "..        ...                                                ...   \n",
      "48      hATui  [{'dnv': '150', 'time': '1474410227.110292', '...   \n",
      "285     58EOK  [{'dnv': '11', 'time': '1474410227.110292', 'u...   \n",
      "301     NTUFW  [{'dnv': '17', 'time': '1474410227.110292', 'u...   \n",
      "316   7JfblKB  [{'dnv': '4', 'time': '1474410227.110292', 'up...   \n",
      "335     UZXfN  [{'dnv': '23', 'time': '1474410227.110292', 'u...   \n",
      "47      hATui  [{'dnv': '152', 'time': '1474410331.354339', '...   \n",
      "190     gbG1t  [{'dnv': '14', 'time': '1474410331.354339', 'u...   \n",
      "286     D9qNO  [{'dnv': '22', 'time': '1474410331.354339', 'u...   \n",
      "309   7JfblKB  [{'dnv': '4', 'time': '1474410331.354339', 'up...   \n",
      "328     UZXfN  [{'dnv': '24', 'time': '1474410331.354339', 'u...   \n",
      "47      hATui  [{'dnv': '152', 'time': '1474410433.716455', '...   \n",
      "181     gbG1t  [{'dnv': '15', 'time': '1474410433.716455', 'u...   \n",
      "192   MtLFcRx  [{'dnv': '28', 'time': '1474410433.716455', 'u...   \n",
      "273     D9qNO  [{'dnv': '22', 'time': '1474410433.716455', 'u...   \n",
      "293     NTUFW  [{'dnv': '18', 'time': '1474410433.716455', 'u...   \n",
      "301     NTUFW  [{'dnv': '17', 'time': '1474410433.716455', 'u...   \n",
      "316   7JfblKB  [{'dnv': '4', 'time': '1474410433.716455', 'up...   \n",
      "335     UZXfN  [{'dnv': '23', 'time': '1474410433.716455', 'u...   \n",
      "47      hATui  [{'dnv': '152', 'time': '1474410537.166999', '...   \n",
      "175     gbG1t  [{'dnv': '16', 'time': '1474410537.166999', 'u...   \n",
      "184   MtLFcRx  [{'dnv': '30', 'time': '1474410537.166999', 'u...   \n",
      "250     D9qNO  [{'dnv': '24', 'time': '1474410537.166999', 'u...   \n",
      "273     NTUFW  [{'dnv': '21', 'time': '1474410537.166999', 'u...   \n",
      "47      hATui  [{'dnv': '153', 'time': '1474410641.33411', 'u...   \n",
      "162     gbG1t  [{'dnv': '16', 'time': '1474410641.33411', 'up...   \n",
      "184   MtLFcRx  [{'dnv': '33', 'time': '1474410641.33411', 'up...   \n",
      "244     D9qNO  [{'dnv': '24', 'time': '1474410641.33411', 'up...   \n",
      "156     gbG1t  [{'dnv': '16', 'time': '1474410745.328564', 'u...   \n",
      "178   MtLFcRx  [{'dnv': '36', 'time': '1474410745.328564', 'u...   \n",
      "184   MtLFcRx  [{'dnv': '33', 'time': '1474410745.328564', 'u...   \n",
      "\n",
      "                                                 title      type  \n",
      "0                                     Mindfuck Movies!     album  \n",
      "1                Top Mindblowing Science Documentaries     album  \n",
      "2                                    Gamers understand  animated  \n",
      "3    My Reaction When my mother who has Alzheimer's...     album  \n",
      "4                            A small dump of comebacks     album  \n",
      "5                                         goofy dumdum  animated  \n",
      "6                           We are who we choose to be  animated  \n",
      "7                               Unboxing lab equipment     album  \n",
      "8    Police accidentally record themselves conspiri...     album  \n",
      "9                           Another victory - it fits!  animated  \n",
      "10                                            No Shame     image  \n",
      "11   Terry Crews does everything better than everyb...  animated  \n",
      "12   My favorite movies set in a single location. T...     album  \n",
      "13                                     Conan on sexism     image  \n",
      "14   Skyrim Mods to make your Skyrim even more enjo...     album  \n",
      "15   So I saw this post on Imgur today and tried to...     album  \n",
      "16                                          Hnnnnggggg     album  \n",
      "17                                    Ariel needs legs     album  \n",
      "18                   how to use headphones on iPhone 7     album  \n",
      "19   Why does Scottish Twitter type with a Scottish...     album  \n",
      "20                                  Guess The Answer!!     album  \n",
      "21              Military to Business translation guide     album  \n",
      "22                                       Such majestic  animated  \n",
      "23                                        Dragon Child     album  \n",
      "24                                      Toilet humour.     album  \n",
      "25                       A glimpse of medieval streets     album  \n",
      "26   Cat breaks into a zoo to become best friends ....     album  \n",
      "27                                   Can't touch this.     album  \n",
      "28                                    God dammit,mom !     album  \n",
      "29                             When the feels hit hard     album  \n",
      "..                                                 ...       ...  \n",
      "48                                            My dream     album  \n",
      "285                          34 animals without necks.     album  \n",
      "301  MRW someone tells me I can't use gifs with bla...     album  \n",
      "316          Vicious sea monster strikes from the deep  animated  \n",
      "335  My Reaction When a customer asks to speak to t...     album  \n",
      "47                                            My dream     album  \n",
      "190                                              apple     album  \n",
      "286     Diet you say? Yeah definitely next week, maybe     album  \n",
      "309          Vicious sea monster strikes from the deep  animated  \n",
      "328  My Reaction When a customer asks to speak to t...     album  \n",
      "47                                            My dream     album  \n",
      "181                                              apple     album  \n",
      "192                                   Police Brutality  animated  \n",
      "273     Diet you say? Yeah definitely next week, maybe     album  \n",
      "293  MRW someone tells me I can't use gifs with bla...     album  \n",
      "301  MRW someone tells me I can't use gifs with bla...     album  \n",
      "316          Vicious sea monster strikes from the deep  animated  \n",
      "335  My Reaction When a customer asks to speak to t...     album  \n",
      "47                                            My dream     album  \n",
      "175                                              apple     album  \n",
      "184                                   Police Brutality  animated  \n",
      "250     Diet you say? Yeah definitely next week, maybe     album  \n",
      "273  MRW someone tells me I can't use gifs with bla...     album  \n",
      "47                                            My dream     album  \n",
      "162                                              apple     album  \n",
      "184                                   Police Brutality  animated  \n",
      "244     Diet you say? Yeah definitely next week, maybe     album  \n",
      "156                                              apple     album  \n",
      "178                                   Police Brutality  animated  \n",
      "184                                   Police Brutality  animated  \n",
      "\n",
      "[3750 rows x 4 columns]\n"
     ]
    }
   ],
   "source": [
    "len(subset)\n",
    "print(subset.head())"
   ]
  },
  {
   "cell_type": "code",
   "execution_count": 122,
   "metadata": {
    "collapsed": false
   },
   "outputs": [],
   "source": [
    "\n",
    "perm = subset.sample(n=1).loc[:,'permalink'].iloc[0]\n",
    "one_post = grouped_subset.get_group(perm)"
   ]
  },
  {
   "cell_type": "code",
   "execution_count": 123,
   "metadata": {
    "collapsed": false
   },
   "outputs": [],
   "source": [
    "new_df = pd.DataFrame(one_post['snapshots'])\n",
    "\n",
    "#one_post.plot.line()"
   ]
  },
  {
   "cell_type": "code",
   "execution_count": 127,
   "metadata": {
    "collapsed": false
   },
   "outputs": [
    {
     "name": "stdout",
     "output_type": "stream",
     "text": [
      "36\n",
      "   dnv               time   upv   views\n",
      "0  409  1474408710.505945  1307  50,910\n"
     ]
    }
   ],
   "source": [
    "def flatten_snapshots(one_post_snapshots):\n",
    "  flat_snapshots = []\n",
    "  for doc in one_post_snapshots:\n",
    "    flat_snapshots += doc\n",
    "\n",
    "  flat_df = pd.DataFrame(flat_snapshots)\n",
    "  return flat_df\n"
   ]
  },
  {
   "cell_type": "code",
   "execution_count": 137,
   "metadata": {
    "collapsed": false
   },
   "outputs": [
    {
     "name": "stdout",
     "output_type": "stream",
     "text": [
      "   dnv               time   upv   views\n",
      "0  409  1474408710.505945  1307  50,910\n",
      "1  409  1474408814.700076  1307  50,910\n",
      "2  410  1474408917.976669  1309  50,977\n",
      "3  410  1474409021.666103  1311  51,024\n",
      "4  410  1474409127.410399  1313  51,064\n",
      "object object\n",
      "int64 float32\n"
     ]
    }
   ],
   "source": [
    "print(new_df.head())\n",
    "print(new_df.upv.dtype, new_df.time.dtype)\n",
    "new_df.upv = new_df.upv.astype('int')\n",
    "new_df.time = new_df.time.astype('float32')\n",
    "print(new_df.upv.dtype, new_df.time.dtype)"
   ]
  },
  {
   "cell_type": "code",
   "execution_count": 140,
   "metadata": {
    "collapsed": false,
    "scrolled": true
   },
   "outputs": [
    {
     "data": {
      "text/plain": [
       "<matplotlib.axes._subplots.AxesSubplot at 0x114754f98>"
      ]
     },
     "execution_count": 140,
     "metadata": {},
     "output_type": "execute_result"
    },
    {
     "data": {
      "image/png": "[encoded data removed]",
      "text/plain": [
       "<matplotlib.figure.Figure at 0x116e03320>"
      ]
     },
     "metadata": {},
     "output_type": "display_data"
    }
   ],
   "source": [
    "new_df.plot.line(x='time', y='upv')"
   ]
  },
  {
   "cell_type": "code",
   "execution_count": null,
   "metadata": {
    "collapsed": true
   },
   "outputs": [],
   "source": []
  }
 ],
 "metadata": {
  "kernelspec": {
   "display_name": "Python 3",
   "language": "python",
   "name": "python3"
  },
  "language_info": {
   "codemirror_mode": {
    "name": "ipython",
    "version": 3
   },
   "file_extension": ".py",
   "mimetype": "text/x-python",
   "name": "python",
   "nbconvert_exporter": "python",
   "pygments_lexer": "ipython3",
   "version": "3.4.3"
  }
 },
 "nbformat": 4,
 "nbformat_minor": 0
}
