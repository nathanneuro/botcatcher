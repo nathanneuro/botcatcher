{
 "cells": [
  {
   "cell_type": "code",
   "execution_count": 17,
   "metadata": {
    "collapsed": false
   },
   "outputs": [],
   "source": [
    "import pandas as pd\n",
    "import json\n",
    "from os import walk\n",
    "import os\n",
    "%matplotlib inline"
   ]
  },
  {
   "cell_type": "code",
   "execution_count": 18,
   "metadata": {
    "collapsed": true
   },
   "outputs": [],
   "source": [
    "import matplotlib.pyplot as plt"
   ]
  },
  {
   "cell_type": "code",
   "execution_count": 83,
   "metadata": {
    "collapsed": true
   },
   "outputs": [],
   "source": [
    "datapath = '/Users/nathanhelm-burger/Documents/Dropbox/Stats_Programming/botcatcher_data/datanew/'\n",
    "datapath_mv = '/Users/nathanhelm-burger/Documents/Dropbox/Stats_Programming/botcatcher_data/data/'"
   ]
  },
  {
   "cell_type": "code",
   "execution_count": 84,
   "metadata": {
    "collapsed": false
   },
   "outputs": [],
   "source": [
    "allfiles = []\n",
    "for (dirpath, dirnames, filenames) in walk(datapath_mv):\n",
    "  allfiles = allfiles+filenames\n",
    "  break\n",
    "\n"
   ]
  },
  {
   "cell_type": "code",
   "execution_count": 85,
   "metadata": {
    "collapsed": false
   },
   "outputs": [
    {
     "name": "stdout",
     "output_type": "stream",
     "text": [
      "number of files 36\n"
     ]
    }
   ],
   "source": [
    "if '.DS_Store' in allfiles:\n",
    "  allfiles.pop(allfiles.index('.DS_Store'))\n",
    "  \n",
    "print('number of files', len(allfiles))"
   ]
  },
  {
   "cell_type": "code",
   "execution_count": 87,
   "metadata": {
    "collapsed": false
   },
   "outputs": [],
   "source": [
    "#df = pd.DataFrame()\n",
    "#for filename in allfiles:\n",
    "#  temp_df = pd.read_json(datapath + filename)\n",
    "#  df = df.append(temp_df)\n",
    "\n",
    "df_mv = pd.DataFrame()\n",
    "for filename in allfiles:\n",
    "  temp_df = pd.read_json(datapath_mv + filename)\n",
    "  df_mv = df_mv.append(temp_df)"
   ]
  },
  {
   "cell_type": "code",
   "execution_count": 90,
   "metadata": {
    "collapsed": false,
    "scrolled": true
   },
   "outputs": [
    {
     "name": "stdout",
     "output_type": "stream",
     "text": [
      "  permalink                                          snapshots  \\\n",
      "0     XVO7F  [{'upv': '27581', 'views': '261,556', 'time': ...   \n",
      "1     KSIdk  [{'upv': '15401', 'views': '146,681', 'time': ...   \n",
      "2   5Ji5XMH  [{'upv': '10359', 'views': '393,257', 'time': ...   \n",
      "3     6Iqrg  [{'upv': '5975', 'views': '75,040', 'time': '1...   \n",
      "4     3c1Mf  [{'upv': '4724', 'views': '67,320', 'time': '1...   \n",
      "\n",
      "                                               title      type  \n",
      "0                                   Mindfuck Movies!     album  \n",
      "1              Top Mindblowing Science Documentaries     album  \n",
      "2                                  Gamers understand  animated  \n",
      "3  My Reaction When my mother who has Alzheimer's...     album  \n",
      "4                          A small dump of comebacks     album  \n"
     ]
    }
   ],
   "source": [
    "print(df_mv.head())\n"
   ]
  },
  {
   "cell_type": "code",
   "execution_count": 26,
   "metadata": {
    "collapsed": false
   },
   "outputs": [
    {
     "name": "stdout",
     "output_type": "stream",
     "text": [
      "Index(['permalink', 'snapshots', 'title', 'type'], dtype='object')\n"
     ]
    }
   ],
   "source": [
    "print(df.columns)"
   ]
  },
  {
   "cell_type": "code",
   "execution_count": 92,
   "metadata": {
    "collapsed": false
   },
   "outputs": [],
   "source": [
    "#grouped = df.groupby('permalink')\n",
    "most_viral_grouped = df_mv.groupby('permalink')"
   ]
  },
  {
   "cell_type": "code",
   "execution_count": 28,
   "metadata": {
    "collapsed": false
   },
   "outputs": [
    {
     "name": "stdout",
     "output_type": "stream",
     "text": [
      "3653 84180\n"
     ]
    }
   ],
   "source": [
    "print(len(grouped), len(df))\n"
   ]
  },
  {
   "cell_type": "code",
   "execution_count": 93,
   "metadata": {
    "collapsed": true
   },
   "outputs": [],
   "source": [
    "# choosing only those posts with at least 20 timestamps\n",
    "#subset = grouped.filter(lambda x: len(x) > 20)\n",
    "most_viral_subset = most_viral_grouped.filter(lambda x: len(x) > 20)"
   ]
  },
  {
   "cell_type": "code",
   "execution_count": 11,
   "metadata": {
    "collapsed": false
   },
   "outputs": [],
   "source": [
    "#grouped_subset = subset.groupby('permalink')"
   ]
  },
  {
   "cell_type": "code",
   "execution_count": 12,
   "metadata": {
    "collapsed": false
   },
   "outputs": [
    {
     "name": "stdout",
     "output_type": "stream",
     "text": [
      "  permalink                                          snapshots  \\\n",
      "0     JE4yg  [{'upv': '1', 'views': 0, 'time': '1475774950....   \n",
      "1     boEgG  [{'upv': '2', 'views': 0, 'time': '1475774950....   \n",
      "2     GWHg5  [{'upv': '2', 'views': 0, 'time': '1475774950....   \n",
      "3     XW1X1  [{'upv': '1', 'views': 0, 'time': '1475774950....   \n",
      "4     j5A4q  [{'upv': '2', 'views': 0, 'time': '1475774950....   \n",
      "\n",
      "                      title   type  \n",
      "0         Star Lord beckons  album  \n",
      "1              No one knows  album  \n",
      "2  birthday lol skin agario  album  \n",
      "3                   getrekt  album  \n",
      "4               High Score!  album  \n"
     ]
    }
   ],
   "source": [
    "len(subset)\n",
    "print(subset.head())"
   ]
  },
  {
   "cell_type": "code",
   "execution_count": null,
   "metadata": {
    "collapsed": false
   },
   "outputs": [],
   "source": [
    "\n"
   ]
  },
  {
   "cell_type": "code",
   "execution_count": 111,
   "metadata": {
    "collapsed": false
   },
   "outputs": [],
   "source": [
    "def flatten_snapshots(one_post_snapshots):\n",
    "  flat_snapshots = []\n",
    "  for doc in one_post_snapshots:\n",
    "    flat_snapshots += doc\n",
    "\n",
    "  flat_df = pd.DataFrame(flat_snapshots)\n",
    "  for col in flat_df:\n",
    "    flat_df[col] = flat_df[col].map(lambda x: str(x).replace(',',''))\n",
    "  flat_df.upv = flat_df.upv.astype('float32')\n",
    "  flat_df.dnv = flat_df.dnv.astype('float32')\n",
    "  flat_df.views = flat_df.views.astype('float32')\n",
    "  flat_df.time = flat_df.time.astype('float32')\n",
    "  return flat_df"
   ]
  },
  {
   "cell_type": "code",
   "execution_count": 99,
   "metadata": {
    "collapsed": false,
    "scrolled": true
   },
   "outputs": [],
   "source": [
    "# new_df.plot.line(x='time', y='upv')"
   ]
  },
  {
   "cell_type": "code",
   "execution_count": 112,
   "metadata": {
    "collapsed": false
   },
   "outputs": [],
   "source": [
    "# Compare three (or more) on the same graph\n",
    "\n",
    "def graph_posts(n, filtered_df):\n",
    "  #grouped_df = filtered_df.groupby('permalink')\n",
    "  # grab n random posts\n",
    "  perms = filtered_df.sample(n=n).loc[:,'permalink']\n",
    "  # create plot object, then loop to add n lines\n",
    "  plt.figure()\n",
    "  for pl in perms:\n",
    "    print('permalink', pl)\n",
    "    #single_post = grouped_df.get_group(pl)\n",
    "    single_post = filtered_df.loc[filtered_df['permalink'] == pl]\n",
    "    # flatten each and append to line lists\n",
    "    flat_post = flatten_snapshots(single_post.snapshots)\n",
    "    # time = time - min(time) to start from initial observation\n",
    "    x_line = flat_post.time - flat_post.time.min()\n",
    "    y_line = flat_post['upv']\n",
    "    one_post = pd.Series(y_line.values, index=x_line.values)\n",
    "    one_post.plot.line()\n",
    "    #print(x_line, y_line)\n",
    "    #plt.plot(x=x_line.values, y=y_line.values)\n",
    "  plt.legend(perms,bbox_to_anchor=(1.05, 1), loc = 2)\n",
    "  y_min, y_max = plt.gca().get_ylim()\n",
    "  print(plt.gca().get_ylim(), 'ylim')\n",
    "  dist = y_max - y_min\n",
    "  y_min = y_min - 0.1*dist\n",
    "  y_max = y_max + 0.1*dist\n",
    "  plt.gca().set_ylim([y_min, y_max])\n",
    "  plt.show()\n",
    "  plt.close()\n",
    "    "
   ]
  },
  {
   "cell_type": "code",
   "execution_count": 117,
   "metadata": {
    "collapsed": false
   },
   "outputs": [
    {
     "name": "stdout",
     "output_type": "stream",
     "text": [
      "permalink w1i6Y\n",
      "permalink 06U3D\n",
      "permalink V3dsw\n",
      "permalink oBlSz\n",
      "permalink Zp4Co\n",
      "permalink taJLf\n",
      "permalink ilsr0\n",
      "permalink NoyeX\n",
      "permalink t2l1mEx\n",
      "permalink qzga7Ao\n",
      "(0.0, 18.0) ylim\n"
     ]
    },
    {
     "data": {
      "image/png": "[encoded data removed]",
      "text/plain": [
       "<matplotlib.figure.Figure at 0x114dd0470>"
      ]
     },
     "metadata": {},
     "output_type": "display_data"
    }
   ],
   "source": [
    "graph_posts(10, subset)"
   ]
  },
  {
   "cell_type": "code",
   "execution_count": 123,
   "metadata": {
    "collapsed": false
   },
   "outputs": [
    {
     "name": "stdout",
     "output_type": "stream",
     "text": [
      "permalink dxT4woN\n",
      "(1150.0, 1240.0) ylim\n"
     ]
    },
    {
     "data": {
      "image/png": "[encoded data removed]",
      "text/plain": [
       "<matplotlib.figure.Figure at 0x11c4bdac8>"
      ]
     },
     "metadata": {},
     "output_type": "display_data"
    }
   ],
   "source": [
    "graph_posts(1, most_viral_subset)"
   ]
  },
  {
   "cell_type": "code",
   "execution_count": null,
   "metadata": {
    "collapsed": true
   },
   "outputs": [],
   "source": []
  }
 ],
 "metadata": {
  "kernelspec": {
   "display_name": "Python 3",
   "language": "python",
   "name": "python3"
  },
  "language_info": {
   "codemirror_mode": {
    "name": "ipython",
    "version": 3
   },
   "file_extension": ".py",
   "mimetype": "text/x-python",
   "name": "python",
   "nbconvert_exporter": "python",
   "pygments_lexer": "ipython3",
   "version": "3.4.3"
  }
 },
 "nbformat": 4,
 "nbformat_minor": 0
}
